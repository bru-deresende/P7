{
 "cells": [
  {
   "cell_type": "code",
   "execution_count": 13,
   "id": "ad98e941-0887-4628-9c3a-dc37104300fe",
   "metadata": {},
   "outputs": [
    {
     "name": "stdout",
     "output_type": "stream",
     "text": [
      "Requirement already satisfied: pip in d:\\anaconda3\\lib\\site-packages (24.2)\n",
      "Collecting pip\n",
      "  Using cached pip-24.3.1-py3-none-any.whl.metadata (3.7 kB)\n",
      "Using cached pip-24.3.1-py3-none-any.whl (1.8 MB)\n"
     ]
    },
    {
     "name": "stderr",
     "output_type": "stream",
     "text": [
      "WARNING: Ignoring invalid distribution -ryptography (d:\\anaconda3\\lib\\site-packages)\n",
      "WARNING: Ignoring invalid distribution -ydantic (d:\\anaconda3\\lib\\site-packages)\n",
      "ERROR: To modify pip, please run the following command:\n",
      "D:\\Anaconda3\\python.exe -m pip install --upgrade pip\n"
     ]
    },
    {
     "name": "stdout",
     "output_type": "stream",
     "text": [
      "Collecting git+https://github.com/evidentlyai/evidently.git"
     ]
    },
    {
     "name": "stderr",
     "output_type": "stream",
     "text": [
      "WARNING: Ignoring invalid distribution -ryptography (d:\\anaconda3\\lib\\site-packages)\n",
      "WARNING: Ignoring invalid distribution -ydantic (d:\\anaconda3\\lib\\site-packages)\n",
      "  ERROR: Error [WinError 2] Le fichier spécifié est introuvable while executing command git version\n",
      "ERROR: Cannot find command 'git' - do you have 'git' installed and in your PATH?\n"
     ]
    },
    {
     "name": "stdout",
     "output_type": "stream",
     "text": [
      "\n",
      "  Cloning https://github.com/evidentlyai/evidently.git to c:\\users\\bruno\\appdata\\local\\temp\\pip-req-build-tjwk5v09\n"
     ]
    }
   ],
   "source": [
    "!pip install --upgrade pip\n",
    "!pip install git+https://github.com/evidentlyai/evidently.git\n"
   ]
  },
  {
   "cell_type": "code",
   "execution_count": 10,
   "id": "1dad7887-a5f4-440b-acfd-e5834fbc4286",
   "metadata": {},
   "outputs": [
    {
     "ename": "ModuleNotFoundError",
     "evalue": "No module named 'evidently'",
     "output_type": "error",
     "traceback": [
      "\u001b[1;31m---------------------------------------------------------------------------\u001b[0m",
      "\u001b[1;31mModuleNotFoundError\u001b[0m                       Traceback (most recent call last)",
      "Cell \u001b[1;32mIn[10], line 1\u001b[0m\n\u001b[1;32m----> 1\u001b[0m \u001b[38;5;28;01mfrom\u001b[39;00m \u001b[38;5;21;01mevidently\u001b[39;00m\u001b[38;5;21;01m.\u001b[39;00m\u001b[38;5;21;01mreport\u001b[39;00m \u001b[38;5;28;01mimport\u001b[39;00m Report\n\u001b[0;32m      2\u001b[0m \u001b[38;5;28;01mfrom\u001b[39;00m \u001b[38;5;21;01mevidently\u001b[39;00m\u001b[38;5;21;01m.\u001b[39;00m\u001b[38;5;21;01mmetric_preset\u001b[39;00m \u001b[38;5;28;01mimport\u001b[39;00m DataDriftPreset\n",
      "\u001b[1;31mModuleNotFoundError\u001b[0m: No module named 'evidently'"
     ]
    }
   ],
   "source": [
    "from evidently.report import Report\n",
    "from evidently.metric_preset import DataDriftPreset"
   ]
  },
  {
   "cell_type": "code",
   "execution_count": 7,
   "id": "353ab1c2-4387-49dc-a853-74551fbbfc64",
   "metadata": {},
   "outputs": [
    {
     "ename": "ModuleNotFoundError",
     "evalue": "No module named 'evidently'",
     "output_type": "error",
     "traceback": [
      "\u001b[1;31m---------------------------------------------------------------------------\u001b[0m",
      "\u001b[1;31mModuleNotFoundError\u001b[0m                       Traceback (most recent call last)",
      "Cell \u001b[1;32mIn[7], line 9\u001b[0m\n\u001b[0;32m      6\u001b[0m \u001b[38;5;28;01mfrom\u001b[39;00m \u001b[38;5;21;01msklearn\u001b[39;00m \u001b[38;5;28;01mimport\u001b[39;00m datasets  \u001b[38;5;66;03m# Accès à des datasets intégrés pour l'entraînement et le test des modèles\u001b[39;00m\n\u001b[0;32m      8\u001b[0m \u001b[38;5;66;03m# Outils Evidently pour les rapports et les métriques\u001b[39;00m\n\u001b[1;32m----> 9\u001b[0m \u001b[38;5;28;01mfrom\u001b[39;00m \u001b[38;5;21;01mevidently\u001b[39;00m\u001b[38;5;21;01m.\u001b[39;00m\u001b[38;5;21;01mreport\u001b[39;00m \u001b[38;5;28;01mimport\u001b[39;00m Report  \u001b[38;5;66;03m# Génération de rapports\u001b[39;00m\n\u001b[0;32m     10\u001b[0m \u001b[38;5;28;01mfrom\u001b[39;00m \u001b[38;5;21;01mevidently\u001b[39;00m\u001b[38;5;21;01m.\u001b[39;00m\u001b[38;5;21;01mmetric_preset\u001b[39;00m \u001b[38;5;28;01mimport\u001b[39;00m DataDriftPreset, TargetDriftPreset, DataQualityPreset, RegressionPreset\n\u001b[0;32m     11\u001b[0m \u001b[38;5;66;03m# Ensembles de métriques prédéfinis\u001b[39;00m\n\u001b[0;32m     12\u001b[0m \n\u001b[0;32m     13\u001b[0m \u001b[38;5;66;03m# Outils Evidently pour les tests et l'analyse des données\u001b[39;00m\n",
      "\u001b[1;31mModuleNotFoundError\u001b[0m: No module named 'evidently'"
     ]
    }
   ],
   "source": [
    "# Librairies de manipulation des données\n",
    "import pandas as pd  \n",
    "import re  \n",
    "\n",
    "# Librairie de datasets Scikit-learn\n",
    "from sklearn import datasets  # Accès à des datasets intégrés pour l'entraînement et le test des modèles\n",
    "\n",
    "# Outils Evidently pour les rapports et les métriques\n",
    "from evidently.report import Report  # Génération de rapports\n",
    "from evidently.metric_preset import DataDriftPreset, TargetDriftPreset, DataQualityPreset, RegressionPreset\n",
    "# Ensembles de métriques prédéfinis\n",
    "\n",
    "# Outils Evidently pour les tests et l'analyse des données\n",
    "from evidently.test_suite import TestSuite  # Création de suites de tests\n",
    "from evidently.test_preset import DataStabilityTestPreset, DataQualityTestPreset  # Tests de stabilité et qualité des données\n",
    "\n",
    "from evidently.metrics import *  # Importation de toutes les métriques\n",
    "from evidently.metrics.base_metric import generate_column_metrics  # Génération de métriques par colonne"
   ]
  },
  {
   "cell_type": "code",
   "execution_count": 14,
   "id": "ec7dabe7-0903-433b-b515-b14f1cab0abc",
   "metadata": {},
   "outputs": [
    {
     "name": "stdout",
     "output_type": "stream",
     "text": [
      "['EXT_SOURCE_2', 'PAYMENT_RATE', 'AMT_ANNUITY', 'EXT_SOURCE_1', 'AMT_GOODS_PRICE', 'INSTAL_AMT_PAYMENT_SUM', 'DAYS_BIRTH', 'INSTAL_DPD_MEAN', 'INSTAL_AMT_PAYMENT_MEAN', 'CODE_GENDER', 'BURO_AMT_CREDIT_MAX_OVERDUE_MEAN', 'NAME_FAMILY_STATUS_Married', 'NAME_EDUCATION_TYPE_Higher_education', 'INSTAL_PAYMENT_PERC_MEAN', 'INSTAL_AMT_PAYMENT_MIN', 'ACTIVE_DAYS_CREDIT_ENDDATE_MAX', 'POS_MONTHS_BALANCE_SIZE', 'INSTAL_DAYS_ENTRY_PAYMENT_MEAN', 'DAYS_LAST_PHONE_CHANGE', 'ACTIVE_DAYS_CREDIT_ENDDATE_MEAN']\n"
     ]
    }
   ],
   "source": [
    "# Définition du chemin vers le fichier CSV\n",
    "chemin_fichier = r'C:\\Users\\Bruno\\Desktop\\OCR\\Projet\\P7 - Implémentez un modèle de scoring\\Données générée\\Meilleures_Caracteristiques_Modele.csv'\n",
    "\n",
    "# Chargement des 20 meilleures variables du modèle à partir du fichier CSV\n",
    "Meilleures_Caracteristiques_Modele = pd.read_csv(chemin_fichier)['Variables'].tolist()\n",
    "\n",
    "# Affichage pour vérifier\n",
    "print(Meilleures_Caracteristiques_Modele)"
   ]
  },
  {
   "cell_type": "code",
   "execution_count": 19,
   "id": "ff7490da-6afe-446d-bb60-5f1be4d9f65b",
   "metadata": {},
   "outputs": [
    {
     "ename": "OSError",
     "evalue": "No such file or directory: 'C:\\Users\\Bruno\\Desktop\\OCR\\Projet\\P7 - Implémentez un modèle de scoring\\MLFLOW\\mlflow_runs\\646449289437073984\\0bcc2ff9f6f94022b0d09dc62efbec34\\1e46374402274ffe9572106d93203ef9\\artifacts\\model'",
     "output_type": "error",
     "traceback": [
      "\u001b[1;31m---------------------------------------------------------------------------\u001b[0m",
      "\u001b[1;31mOSError\u001b[0m                                   Traceback (most recent call last)",
      "Cell \u001b[1;32mIn[19], line 8\u001b[0m\n\u001b[0;32m      5\u001b[0m model_uri \u001b[38;5;241m=\u001b[39m \u001b[38;5;124mr\u001b[39m\u001b[38;5;124m'\u001b[39m\u001b[38;5;124mfile:///C:/Users/Bruno/Desktop/OCR/Projet/P7 - Implémentez un modèle de scoring/MLFLOW/mlflow_runs/646449289437073984/0bcc2ff9f6f94022b0d09dc62efbec34/1e46374402274ffe9572106d93203ef9/artifacts/model\u001b[39m\u001b[38;5;124m'\u001b[39m\n\u001b[0;32m      7\u001b[0m \u001b[38;5;66;03m# Charger le modèle\u001b[39;00m\n\u001b[1;32m----> 8\u001b[0m model \u001b[38;5;241m=\u001b[39m \u001b[43mmlflow\u001b[49m\u001b[38;5;241;43m.\u001b[39;49m\u001b[43msklearn\u001b[49m\u001b[38;5;241;43m.\u001b[39;49m\u001b[43mload_model\u001b[49m\u001b[43m(\u001b[49m\u001b[43mmodel_uri\u001b[49m\u001b[43m)\u001b[49m\n\u001b[0;32m     11\u001b[0m \u001b[38;5;66;03m# Prédire les probabilités avec les données du client\u001b[39;00m\n\u001b[0;32m     12\u001b[0m model\u001b[38;5;241m.\u001b[39mpredict_proba(donnees_client_selectionne\u001b[38;5;241m.\u001b[39mvalues\u001b[38;5;241m.\u001b[39mtolist())\n",
      "File \u001b[1;32mD:\\Anaconda3\\lib\\site-packages\\mlflow\\sklearn\\__init__.py:633\u001b[0m, in \u001b[0;36mload_model\u001b[1;34m(model_uri, dst_path)\u001b[0m\n\u001b[0;32m    598\u001b[0m \u001b[38;5;28;01mdef\u001b[39;00m \u001b[38;5;21mload_model\u001b[39m(model_uri, dst_path\u001b[38;5;241m=\u001b[39m\u001b[38;5;28;01mNone\u001b[39;00m):\n\u001b[0;32m    599\u001b[0m \u001b[38;5;250m    \u001b[39m\u001b[38;5;124;03m\"\"\"\u001b[39;00m\n\u001b[0;32m    600\u001b[0m \u001b[38;5;124;03m    Load a scikit-learn model from a local file or a run.\u001b[39;00m\n\u001b[0;32m    601\u001b[0m \n\u001b[1;32m   (...)\u001b[0m\n\u001b[0;32m    631\u001b[0m \u001b[38;5;124;03m        predictions = sk_model.predict(pandas_df)\u001b[39;00m\n\u001b[0;32m    632\u001b[0m \u001b[38;5;124;03m    \"\"\"\u001b[39;00m\n\u001b[1;32m--> 633\u001b[0m     local_model_path \u001b[38;5;241m=\u001b[39m \u001b[43m_download_artifact_from_uri\u001b[49m\u001b[43m(\u001b[49m\u001b[43martifact_uri\u001b[49m\u001b[38;5;241;43m=\u001b[39;49m\u001b[43mmodel_uri\u001b[49m\u001b[43m,\u001b[49m\u001b[43m \u001b[49m\u001b[43moutput_path\u001b[49m\u001b[38;5;241;43m=\u001b[39;49m\u001b[43mdst_path\u001b[49m\u001b[43m)\u001b[49m\n\u001b[0;32m    634\u001b[0m     flavor_conf \u001b[38;5;241m=\u001b[39m _get_flavor_configuration(model_path\u001b[38;5;241m=\u001b[39mlocal_model_path, flavor_name\u001b[38;5;241m=\u001b[39mFLAVOR_NAME)\n\u001b[0;32m    635\u001b[0m     _add_code_from_conf_to_system_path(local_model_path, flavor_conf)\n",
      "File \u001b[1;32mD:\\Anaconda3\\lib\\site-packages\\mlflow\\tracking\\artifact_utils.py:116\u001b[0m, in \u001b[0;36m_download_artifact_from_uri\u001b[1;34m(artifact_uri, output_path, lineage_header_info)\u001b[0m\n\u001b[0;32m    110\u001b[0m \u001b[38;5;28;01mif\u001b[39;00m \u001b[38;5;28misinstance\u001b[39m(repo, ModelsArtifactRepository):\n\u001b[0;32m    111\u001b[0m     \u001b[38;5;28;01mreturn\u001b[39;00m repo\u001b[38;5;241m.\u001b[39mdownload_artifacts(\n\u001b[0;32m    112\u001b[0m         artifact_path\u001b[38;5;241m=\u001b[39martifact_path,\n\u001b[0;32m    113\u001b[0m         dst_path\u001b[38;5;241m=\u001b[39moutput_path,\n\u001b[0;32m    114\u001b[0m         lineage_header_info\u001b[38;5;241m=\u001b[39mlineage_header_info,\n\u001b[0;32m    115\u001b[0m     )\n\u001b[1;32m--> 116\u001b[0m \u001b[38;5;28;01mreturn\u001b[39;00m \u001b[43mrepo\u001b[49m\u001b[38;5;241;43m.\u001b[39;49m\u001b[43mdownload_artifacts\u001b[49m\u001b[43m(\u001b[49m\u001b[43martifact_path\u001b[49m\u001b[38;5;241;43m=\u001b[39;49m\u001b[43martifact_path\u001b[49m\u001b[43m,\u001b[49m\u001b[43m \u001b[49m\u001b[43mdst_path\u001b[49m\u001b[38;5;241;43m=\u001b[39;49m\u001b[43moutput_path\u001b[49m\u001b[43m)\u001b[49m\n",
      "File \u001b[1;32mD:\\Anaconda3\\lib\\site-packages\\mlflow\\store\\artifact\\local_artifact_repo.py:91\u001b[0m, in \u001b[0;36mLocalArtifactRepository.download_artifacts\u001b[1;34m(self, artifact_path, dst_path)\u001b[0m\n\u001b[0;32m     89\u001b[0m local_artifact_path \u001b[38;5;241m=\u001b[39m os\u001b[38;5;241m.\u001b[39mpath\u001b[38;5;241m.\u001b[39mjoin(\u001b[38;5;28mself\u001b[39m\u001b[38;5;241m.\u001b[39martifact_dir, os\u001b[38;5;241m.\u001b[39mpath\u001b[38;5;241m.\u001b[39mnormpath(artifact_path))\n\u001b[0;32m     90\u001b[0m \u001b[38;5;28;01mif\u001b[39;00m \u001b[38;5;129;01mnot\u001b[39;00m os\u001b[38;5;241m.\u001b[39mpath\u001b[38;5;241m.\u001b[39mexists(local_artifact_path):\n\u001b[1;32m---> 91\u001b[0m     \u001b[38;5;28;01mraise\u001b[39;00m \u001b[38;5;167;01mOSError\u001b[39;00m(\u001b[38;5;124mf\u001b[39m\u001b[38;5;124m\"\u001b[39m\u001b[38;5;124mNo such file or directory: \u001b[39m\u001b[38;5;124m'\u001b[39m\u001b[38;5;132;01m{\u001b[39;00mlocal_artifact_path\u001b[38;5;132;01m}\u001b[39;00m\u001b[38;5;124m'\u001b[39m\u001b[38;5;124m\"\u001b[39m)\n\u001b[0;32m     92\u001b[0m \u001b[38;5;28;01mreturn\u001b[39;00m os\u001b[38;5;241m.\u001b[39mpath\u001b[38;5;241m.\u001b[39mabspath(local_artifact_path)\n",
      "\u001b[1;31mOSError\u001b[0m: No such file or directory: 'C:\\Users\\Bruno\\Desktop\\OCR\\Projet\\P7 - Implémentez un modèle de scoring\\MLFLOW\\mlflow_runs\\646449289437073984\\0bcc2ff9f6f94022b0d09dc62efbec34\\1e46374402274ffe9572106d93203ef9\\artifacts\\model'"
     ]
    }
   ],
   "source": [
    "import mlflow\n",
    "import mlflow.sklearn\n",
    "\n",
    "# Chemin du modèle avec le préfixe 'file://'\n",
    "model_uri = r'file:///C:/Users/Bruno/Desktop/OCR/Projet/P7 - Implémentez un modèle de scoring/MLFLOW/mlflow_runs/646449289437073984/0bcc2ff9f6f94022b0d09dc62efbec34/1e46374402274ffe9572106d93203ef9/artifacts/model'\n",
    "\n",
    "# Charger le modèle\n",
    "model = mlflow.sklearn.load_model(model_uri)\n",
    "\n",
    "\n",
    "# Prédire les probabilités avec les données du client\n",
    "model.predict_proba(donnees_client_selectionne.values.tolist())"
   ]
  },
  {
   "cell_type": "code",
   "execution_count": 15,
   "id": "17238cc5-50f0-4ad5-9bba-ee81a9a0e00f",
   "metadata": {},
   "outputs": [
    {
     "ename": "NameError",
     "evalue": "name 'donnees_client_selectionne' is not defined",
     "output_type": "error",
     "traceback": [
      "\u001b[1;31m---------------------------------------------------------------------------\u001b[0m",
      "\u001b[1;31mNameError\u001b[0m                                 Traceback (most recent call last)",
      "Cell \u001b[1;32mIn[15], line 10\u001b[0m\n\u001b[0;32m      7\u001b[0m url \u001b[38;5;241m=\u001b[39m \u001b[38;5;124m'\u001b[39m\u001b[38;5;124mhttp://localhost:3000/api/\u001b[39m\u001b[38;5;124m'\u001b[39m\n\u001b[0;32m      9\u001b[0m \u001b[38;5;66;03m# Données à envoyer\u001b[39;00m\n\u001b[1;32m---> 10\u001b[0m data \u001b[38;5;241m=\u001b[39m \u001b[43mdonnees_client_selectionne\u001b[49m\u001b[38;5;241m.\u001b[39mvalues\u001b[38;5;241m.\u001b[39mtolist()\n\u001b[0;32m     12\u001b[0m \u001b[38;5;66;03m# Convertir les données en JSON\u001b[39;00m\n\u001b[0;32m     13\u001b[0m j_data \u001b[38;5;241m=\u001b[39m json\u001b[38;5;241m.\u001b[39mdumps(data)\n",
      "\u001b[1;31mNameError\u001b[0m: name 'donnees_client_selectionne' is not defined"
     ]
    }
   ],
   "source": [
    "# Avec API en local\n",
    "\n",
    "import requests\n",
    "import json\n",
    "\n",
    "# URL de l'API locale\n",
    "url = 'http://localhost:3000/api/'\n",
    "\n",
    "# Données à envoyer\n",
    "data = donnees_client_selectionne.values.tolist()\n",
    "\n",
    "# Convertir les données en JSON\n",
    "j_data = json.dumps(data)\n",
    "\n",
    "# Définir les en-têtes\n",
    "headers = {'content-type': 'application/json', 'Accept-Charset': 'UTF-8'}\n",
    "\n",
    "# Envoyer la requête POST\n",
    "r = requests.post(url, data=j_data, headers=headers)\n",
    "\n",
    "# Imprimer la réponse brute pour débogage\n",
    "print(\"Réponse brute du serveur :\", r.text)\n",
    "\n",
    "# Convertir la réponse JSON en objet Python\n",
    "response_json = r.json()\n",
    "\n",
    "# Accéder à la probabilité de la deuxième classe\n",
    "result2 = response_json[0][1] \n",
    "prediction = int(round(result2, 2) * 100)\n",
    "\n",
    "print(f\"Prédiction : {prediction}\")"
   ]
  },
  {
   "cell_type": "code",
   "execution_count": null,
   "id": "cfe0072f-9ad4-41ab-bc08-20f2ec3215f7",
   "metadata": {},
   "outputs": [],
   "source": []
  }
 ],
 "metadata": {
  "kernelspec": {
   "display_name": "Python 3 (ipykernel)",
   "language": "python",
   "name": "python3"
  },
  "language_info": {
   "codemirror_mode": {
    "name": "ipython",
    "version": 3
   },
   "file_extension": ".py",
   "mimetype": "text/x-python",
   "name": "python",
   "nbconvert_exporter": "python",
   "pygments_lexer": "ipython3",
   "version": "3.9.0"
  }
 },
 "nbformat": 4,
 "nbformat_minor": 5
}
